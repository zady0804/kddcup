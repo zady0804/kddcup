{
 "cells": [
  {
   "cell_type": "markdown",
   "metadata": {},
   "source": [
    "library import"
   ]
  },
  {
   "cell_type": "code",
   "execution_count": 1,
   "metadata": {
    "collapsed": false
   },
   "outputs": [],
   "source": [
    "%matplotlib inline\n",
    "from time import time\n",
    "import numpy as np\n",
    "import matplotlib.pyplot as plt\n",
    "\n",
    "from sklearn.ensemble import IsolationForest, RandomForestClassifier\n",
    "from sklearn.metrics import roc_curve, auc\n",
    "from sklearn.datasets import fetch_kddcup99, fetch_covtype, fetch_mldata\n",
    "from sklearn.preprocessing import MultiLabelBinarizer\n",
    "from sklearn.utils import shuffle as sh\n",
    "from sklearn.model_selection import train_test_split"
   ]
  },
  {
   "cell_type": "markdown",
   "metadata": {},
   "source": [
    "外れ値検知:Isolation Forest"
   ]
  },
  {
   "cell_type": "code",
   "execution_count": 2,
   "metadata": {
    "collapsed": true
   },
   "outputs": [],
   "source": [
    "#ここは無視してください\n",
    "def print_outlier_ratio(y):\n",
    "    uniq, cnt = np.unique(y, return_counts=True)\n",
    "    print(\"----- Target count values: \")\n",
    "    for u, c in zip(uniq, cnt):\n",
    "        print(\"------ %s -> %d occurrences\" % (str(u), c))\n",
    "    print(\"----- Outlier ratio: %.5f\" % (np.min(cnt) / len(y)))"
   ]
  },
  {
   "cell_type": "code",
   "execution_count": 3,
   "metadata": {
    "collapsed": false
   },
   "outputs": [],
   "source": [
    "#どのデータセット使いますかの指定\n",
    "#None, ‘SA’, ‘SF’, ‘http’, ‘smtp’から選択\n",
    "np.random.seed(1)\n",
    "with_decision_function_histograms = False\n",
    "datasets = 'SA'"
   ]
  },
  {
   "cell_type": "code",
   "execution_count": 4,
   "metadata": {
    "collapsed": false
   },
   "outputs": [
    {
     "name": "stdout",
     "output_type": "stream",
     "text": [
      "====== SA ======\n",
      "--- Fetching data...\n"
     ]
    }
   ],
   "source": [
    "# Loading and vectorizing the data:\n",
    "print('====== %s ======' % datasets)\n",
    "print('--- Fetching data...')\n",
    "#dataフォルダ内にx.npz,y.npz\n",
    "#dataset = fetch_kddcup99(subset=datasets, shuffle=True, percent10=True)\n",
    "#X = dataset.data\n",
    "#y = dataset.target\n",
    "X=np.load('data/x.npz.npy')\n",
    "y=np.load('data/y.npz.npy')"
   ]
  },
  {
   "cell_type": "code",
   "execution_count": 5,
   "metadata": {
    "collapsed": false
   },
   "outputs": [
    {
     "name": "stdout",
     "output_type": "stream",
     "text": [
      "[[2630 'udp' 'other' ..., 0.0 0.0 0.0]\n",
      " [0 'tcp' 'http' ..., 0.0 0.0 0.0]\n",
      " [0 'tcp' 'http' ..., 0.0 0.0 0.0]\n",
      " ..., \n",
      " [0 'icmp' 'ecr_i' ..., 0.0 0.0 0.0]\n",
      " [0 'tcp' 'private' ..., 0.0 1.0 1.0]\n",
      " [0 'icmp' 'ecr_i' ..., 0.0 0.0 0.0]]\n"
     ]
    }
   ],
   "source": [
    "#テストデータを保存したい場合\n",
    "#np.save('data/x.npz',X)\n",
    "#np.save('data/y.npz',y)\n",
    "print(X)"
   ]
  },
  {
   "cell_type": "code",
   "execution_count": 6,
   "metadata": {
    "collapsed": false
   },
   "outputs": [
    {
     "name": "stdout",
     "output_type": "stream",
     "text": [
      "--- Vectorizing data...\n"
     ]
    }
   ],
   "source": [
    "print('--- Vectorizing data...')\n",
    "\n",
    "if datasets == 'SA':\n",
    "    lb = MultiLabelBinarizer()\n",
    "    x1 = lb.fit_transform(X[:, 1])\n",
    "    x2 = lb.fit_transform(X[:, 2])\n",
    "    x3 = lb.fit_transform(X[:, 3])\n",
    "    X = np.c_[X[:, :1], x1, x2, x3, X[:, 4:]]\n",
    "    y = (y != b'normal.').astype(int)\n",
    "    print_outlier_ratio(y)\n",
    "\n",
    "n_samples, n_features = X.shape\n",
    "n_samples_train = n_samples // 2\n",
    "\n",
    "X = X.astype(float)\n",
    "X_train = X[:n_samples_train, :]\n",
    "X_test = X[n_samples_train:, :]\n",
    "y_train = y[:n_samples_train]\n",
    "y_test = y[n_samples_train:]"
   ]
  },
  {
   "cell_type": "code",
   "execution_count": 7,
   "metadata": {
    "collapsed": false
   },
   "outputs": [
    {
     "name": "stdout",
     "output_type": "stream",
     "text": [
      "--- Fitting the IsolationForest estimator...\n",
      "--- Preparing the plot elements...\n",
      "SA (AUC: 0.997, train_time= 8.85s, test_time= 4.38s)\n"
     ]
    },
    {
     "data": {
      "image/png": "[encoded data removed]",
      "text/plain": [
       "<matplotlib.figure.Figure at 0x103e4f910>"
      ]
     },
     "metadata": {},
     "output_type": "display_data"
    }
   ],
   "source": [
    "print('--- Fitting the IsolationForest estimator...')\n",
    "model = IsolationForest(n_jobs=-1)\n",
    "tstart = time()\n",
    "model.fit(X_train)\n",
    "fit_time = time() - tstart\n",
    "tstart = time()\n",
    "\n",
    "scoring = - model.decision_function(X_test)  # the lower, the more abnormal\n",
    "\n",
    "print(\"--- Preparing the plot elements...\")\n",
    "if with_decision_function_histograms:\n",
    "    fig, ax = plt.subplots(3, sharex=True, sharey=True)\n",
    "    bins = np.linspace(-0.5, 0.5, 200)\n",
    "    ax[0].hist(scoring, bins, color='black')\n",
    "    ax[0].set_title('Decision function for %s dataset' % dat)\n",
    "    ax[1].hist(scoring[y_test == 0], bins, color='b', label='normal data')\n",
    "    ax[1].legend(loc=\"lower right\")\n",
    "    ax[2].hist(scoring[y_test == 1], bins, color='r', label='outliers')\n",
    "    ax[2].legend(loc=\"lower right\")\n",
    "\n",
    "# Show ROC Curves\n",
    "predict_time = time() - tstart\n",
    "fpr, tpr, thresholds = roc_curve(y_test, scoring)\n",
    "auc_score = auc(fpr, tpr)\n",
    "label = ('%s (AUC: %0.3f, train_time= %0.2fs, '\n",
    "            'test_time= %0.2fs)' % (datasets, auc_score, fit_time, predict_time))\n",
    "# Print AUC score and train/test time:\n",
    "print(label)\n",
    "\n",
    "fig_roc, ax_roc = plt.subplots(1, 1, figsize=(8, 5))\n",
    "ax_roc.plot(fpr, tpr, lw=1, label=label)\n",
    "\n",
    "ax_roc.set_xlim([-0.05, 1.05])\n",
    "ax_roc.set_ylim([-0.05, 1.05])\n",
    "ax_roc.set_xlabel('False Positive Rate')\n",
    "ax_roc.set_ylabel('True Positive Rate')\n",
    "ax_roc.set_title('Receiver operating characteristic (ROC) curves')\n",
    "ax_roc.legend(loc=\"lower right\")\n",
    "fig_roc.tight_layout()\n",
    "plt.show()"
   ]
  },
  {
   "cell_type": "code",
   "execution_count": 8,
   "metadata": {
    "collapsed": false
   },
   "outputs": [],
   "source": [
    "if_test = model.predict(X_test)"
   ]
  },
  {
   "cell_type": "code",
   "execution_count": 9,
   "metadata": {
    "collapsed": false
   },
   "outputs": [
    {
     "name": "stdout",
     "output_type": "stream",
     "text": [
      "90.5678747417\n"
     ]
    }
   ],
   "source": [
    "if_result = 0\n",
    "yif_test = []\n",
    "for i in range(0,len(y_test)):\n",
    "    if y_test[i] == 0:\n",
    "        yif_test.append(1)\n",
    "    else:\n",
    "        yif_test.append(-1)\n",
    "    \n",
    "    if if_test[i] == yif_test[i]:\n",
    "        if_result = if_result + 1\n",
    "\n",
    "print if_result*100.0/len(y_test)"
   ]
  },
  {
   "cell_type": "markdown",
   "metadata": {},
   "source": [
    "識別タスク：Random Forest"
   ]
  },
  {
   "cell_type": "code",
   "execution_count": 10,
   "metadata": {
    "collapsed": true
   },
   "outputs": [],
   "source": [
    "X_train, X_test, y_train, y_test = train_test_split(X, y, test_size=0.50)\n",
    "clf = RandomForestClassifier(max_depth=8, random_state=0)"
   ]
  },
  {
   "cell_type": "code",
   "execution_count": 11,
   "metadata": {
    "collapsed": false
   },
   "outputs": [
    {
     "data": {
      "text/plain": [
       "RandomForestClassifier(bootstrap=True, class_weight=None, criterion='gini',\n",
       "            max_depth=8, max_features='auto', max_leaf_nodes=None,\n",
       "            min_impurity_decrease=0.0, min_impurity_split=None,\n",
       "            min_samples_leaf=1, min_samples_split=2,\n",
       "            min_weight_fraction_leaf=0.0, n_estimators=10, n_jobs=1,\n",
       "            oob_score=False, random_state=0, verbose=0, warm_start=False)"
      ]
     },
     "execution_count": 11,
     "metadata": {},
     "output_type": "execute_result"
    }
   ],
   "source": [
    "clf.fit(X_train, y_train)"
   ]
  },
  {
   "cell_type": "code",
   "execution_count": 12,
   "metadata": {
    "collapsed": false
   },
   "outputs": [],
   "source": [
    "rf_test = clf.predict(X_test)"
   ]
  },
  {
   "cell_type": "code",
   "execution_count": 13,
   "metadata": {
    "collapsed": false
   },
   "outputs": [
    {
     "name": "stdout",
     "output_type": "stream",
     "text": [
      "99.9801303449\n"
     ]
    }
   ],
   "source": [
    "l = 0\n",
    "for i in range (0,len(rf_test)):\n",
    "    if y_test[i] == rf_test[i]:\n",
    "        l = l + 1\n",
    "print l*100.0/len(rf_test)"
   ]
  },
  {
   "cell_type": "code",
   "execution_count": null,
   "metadata": {
    "collapsed": true
   },
   "outputs": [],
   "source": []
  }
 ],
 "metadata": {
  "kernelspec": {
   "display_name": "Python 2",
   "language": "python",
   "name": "python2"
  },
  "language_info": {
   "codemirror_mode": {
    "name": "ipython",
    "version": 2
   },
   "file_extension": ".py",
   "mimetype": "text/x-python",
   "name": "python",
   "nbconvert_exporter": "python",
   "pygments_lexer": "ipython2",
   "version": "2.7.12"
  }
 },
 "nbformat": 4,
 "nbformat_minor": 0
}
